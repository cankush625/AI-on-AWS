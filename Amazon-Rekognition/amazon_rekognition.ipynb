{
 "cells": [
  {
   "cell_type": "code",
   "execution_count": 3,
   "metadata": {},
   "outputs": [],
   "source": [
    "import cv2\n",
    "import boto3"
   ]
  },
  {
   "cell_type": "code",
   "execution_count": 4,
   "metadata": {},
   "outputs": [],
   "source": [
    "# Capture the image from the webcam\n",
    "cap = cv2.VideoCapture(0)\n",
    "res, photo = cap.read()\n",
    "myphoto = \"ankush.jpg\"\n",
    "cv2.imwrite(myphoto, photo)\n",
    "cap.release()"
   ]
  },
  {
   "cell_type": "code",
   "execution_count": 16,
   "metadata": {},
   "outputs": [],
   "source": [
    "# Upload image to the S3 bucket\n",
    "region = \"ap-south-1\"\n",
    "bucketname = \"ai-on-aws-test\"\n",
    "filename = \"file.jpg\"\n",
    "s3 = boto3.resource('s3')\n",
    "s3.Bucket(bucketname).upload_file(myphoto, filename)"
   ]
  },
  {
   "cell_type": "code",
   "execution_count": 23,
   "metadata": {},
   "outputs": [],
   "source": [
    "# Connect to Amazon Rekognition service\n",
    "rek = boto3.client('rekognition', region)\n",
    "res = rek.detect_labels(\n",
    "    Image = {\n",
    "        'S3Object': {\n",
    "            'Bucket': bucketname,\n",
    "            'Name': filename,\n",
    "        }\n",
    "    },\n",
    "    MaxLabels = 10,\n",
    "    MinConfidence = 90\n",
    ")"
   ]
  },
  {
   "cell_type": "code",
   "execution_count": 24,
   "metadata": {},
   "outputs": [
    {
     "data": {
      "text/plain": [
       "'Person'"
      ]
     },
     "execution_count": 24,
     "metadata": {},
     "output_type": "execute_result"
    }
   ],
   "source": [
    "res['Labels'][0]['Name']"
   ]
  },
  {
   "cell_type": "code",
   "execution_count": null,
   "metadata": {},
   "outputs": [],
   "source": []
  }
 ],
 "metadata": {
  "kernelspec": {
   "display_name": "Python 3",
   "language": "python",
   "name": "python3"
  },
  "language_info": {
   "codemirror_mode": {
    "name": "ipython",
    "version": 3
   },
   "file_extension": ".py",
   "mimetype": "text/x-python",
   "name": "python",
   "nbconvert_exporter": "python",
   "pygments_lexer": "ipython3",
   "version": "3.7.4"
  }
 },
 "nbformat": 4,
 "nbformat_minor": 2
}
