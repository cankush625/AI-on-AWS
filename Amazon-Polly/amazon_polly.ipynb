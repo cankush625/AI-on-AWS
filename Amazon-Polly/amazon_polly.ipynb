{
 "cells": [
  {
   "cell_type": "code",
   "execution_count": 1,
   "metadata": {},
   "outputs": [],
   "source": [
    "import boto3"
   ]
  },
  {
   "cell_type": "code",
   "execution_count": 2,
   "metadata": {},
   "outputs": [],
   "source": [
    "polly = boto3.client('polly')"
   ]
  },
  {
   "cell_type": "code",
   "execution_count": 3,
   "metadata": {},
   "outputs": [],
   "source": [
    "# Use Amazon Polly to convert text to speech\n",
    "res = polly.synthesize_speech(\n",
    "    Text = \"Hello, how are you?\",\n",
    "    OutputFormat = 'mp3',\n",
    "    VoiceId = 'Joanna')"
   ]
  },
  {
   "cell_type": "code",
   "execution_count": 4,
   "metadata": {},
   "outputs": [],
   "source": [
    "# Save the response from Amazon Polly into the mp3 file\n",
    "audiofile = 'myaudio.mp3'\n",
    "file = open(audiofile, 'wb')\n",
    "file.write(res['AudioStream'].read())\n",
    "file.close()"
   ]
  },
  {
   "cell_type": "code",
   "execution_count": 5,
   "metadata": {},
   "outputs": [
    {
     "data": {
      "text/html": [
       "\n",
       "                <audio  controls=\"controls\" >\n",
       "                    <source src=\"data:audio/mpeg;base64,SUQzBAAAAAAAI1RTU0UAAAAPAAADTGF2ZjU4LjQ1LjEwMAAAAAAAAAAAAAAA//NgxAAd2+XgAUYYAQAQyyZMndxEREREXd3d/9/+voHAwMDAwN3dERP4ju79d3AEL4iF/u5+7u5/EA3NETrogQAAABER3+IXoiIiJughERERHd3d3/67v//xE6iIiIhaIiJ//6IiIBgbu7ucd3d3dz///////93Pd3d3d99AghHYAAB+ChJIxGI5FI5FIhEIZEIuPFEVcRApNF+S//NixBcjUr6+X4pYAjuGf5PKKD+IIfoqwmPJ44kTK84ThgBODgpD6HsF3vfFBYcmBINQMSaQUV1X6YIA9kkEsNx8cT63yl//+oTGTwxg9uZXKdyf////wTzc6/ZJudZdKXFf0x/Ex//1//5y2UsUHUWPUIFsU4///jC58emIDkP394Qq7iZQAzfxGJMxVSNiw5kB4BgbbLvi0Y5vdf/zYsQZJpuCphXZMAA5YpLEN5WZzKXUgPAiT+Q22KPY9igI0VCZYOCjFP9ZJs88u2lZf8WUQR6zXf7Btb618///+X9nxMDTiIIFAsMadv//aHvtd+sPj/HnKJJliE0VkUjksz/x+xb/jszkQolv////////qe+3vdyrQztd//ur/t+YtmEVNDLhfWo0wH31AchlCBH6/85QWmDIUib/82LEDiBrLq40ywToTNZPrRnUpxaIWcuW4aLBgQTBkjiLzKs1fOg8XmOJh0W9Kdk+s7YsWYfLBzRYZ/RWqxnUxqiGlYKORHdjlK//J07GrKIc10/0ZTngwRAcjSXznYokoVf++k181f//zkPlQztEPHtLFDd36DyRK8QPiNzBBLIAwhM5Y1n1MH0MFiHXiOcGFzkyQFEQjLESwLoX//NgxBweukqhZMvKlNLFejBHT7vhNmafLYc9PZeL16th/NurZbANlZf+qZi1IVCsKnKaVnq3+5Tv6sNoUctWOxHRiN2QVEqsPDrfNOokxUc/3KZ94gETvSCvPhMuIWmGMJJkPUtJa9QNCuklAD5AOtxBYMzKLBT+7kbVQOQJGbTsUbEkuy5iTbJLJRw9hfetqF/cyz2kkWFZQ6UW//NixDAm+76JUtpFOSo/zfVSsLJP8aEtpsmX/1H/rqSjj9z1exj9ki29//+VCqXWiXjBroJ9C5FKLKJtjSASP8BCgHuTFB8nGjaOJsoqhj//+5DFf////1ocE5iIrf6yVapjHOLCAAzuUj6Irf/9Dg3rK7+kyt3PHgA3CUIArb+tOzQiEI37D+JVmXsDrIJlUOITi3jswNF1tQinhv/zYsQkIvPynZ7Iy1EjKuYCscuO5Y/UkdSkw32knc/7h+HETOZWI7J45WrP//N3+J8cGLRWEX2DgEKEhQOECRkGFBSMJc7F3Kh6t+fiBn//sd3Rj1OupUHVIYbo1v7PpK1SBKKqVSGfb///R2ZkbtUoiBPdDgQsDkIAac/vI0QJDXUshhpSIAK5ijKnxTAOOkKCRueGIAO432U4gIj/82LEKCm8FqWeywdIrexp2lQL9umQQMpgmYmWXwLF9wCyemx8zH9SdeXRasVQ1LTfLkJDg1IsKlaXYbWdnXnmDgjwdNLz/1JzBZEbBRCvHrFr/KtKqZl59/5/+f/+iVIcKPZPz1mgZsj+f/9/NIyHLUrnKkXKnZdz03jnZghD4JEAzp2B0CrBYAhdBYKSrCZvEXHJ844dyCYT2srx//NgxBEe6UrGXn5YiKl9cZTNozx3gLiJMx+Nyhe7NLP4VcpMBfq5BCgFg4snUqHPWp/tyWOjkrDNOdaUhmlJDZMO9e0rPwpFqZarWAUFzSPqUg+XCY22D6weArtB/i1v1CWv/+1dSWCqQ2l+cV9rQmPhAwgo97i6Y4IJAF/fjl6WwZsaNClNoBRZ13GAkm5bra8VCZHzJyAktUYu//NixCQeG1q2FMMEzIRnNkokiejzPPX+ttfOUKQPq4LLNtnKVihnGVQ6Bi5erL/yjIrDxlQmv8dxdUZqP6RtUlVc3/SmqJd9W//6PNaOSrTsz3sqAzEVNGF6PCzE6Z9T4pWjgDUXqyw3VSPCQkgmtrWl6hf7qQwhrOXakpUefpN6gKmWiwYEgNTtmAeP6TrlmpzgvESinmA3Z8srof/zYsQ7HsKWsfTKRMzVnuyFUFAxgYI9W0l+j6lglIOEZDq3J5nVNrUm/r6Kxf/QyKoURgFVn1n1PiF0PlLSqTFUOhrUOvQwcui8ykMJggRwlf9tfAlBm119C/iVTfSlw3Ss2JfKlvqCubGG5zT7P5jFYaprd6vG7UokkmjlMaKbV8JTGBZO/wj2h5PLdQaMDUbLh2uj309HVaDbt///82LEUB4anrC2wMssU5jKYgmESBwhCfuhyK6nt/0eiqOZn+3tDx2KGJWCqnr/zhY9wCMuqSrFAANbbvv+pUQBsSsBJhaotlYkQy5AuBI6GygWEB1ZEUnOxGWZPLoiVeDNHQqG4wUo7BTH62dDVRkOQKyOygErLob+1XrKYKLIo3/0dmuLVUchz7/Wc4SW//9bU//0llL6IyPYFEnW//NgxGcefBLGHnpEdKyzNUyG66ORDerd+/6luFm1RQWQAAomVO7dXWwBVMggsKrV7YgE2s3o+aVFGi/fl6sjz+yvJxJI4uZuKp2dStcd49yAQSsxQgI9x9TqrKhUc7WZRZoEYKQQim//6lYiwyinN/9SkKyVCkqS/s5BlIKPt/9wf/oG96QXSCqRMKB1Z1YOn1Hvo+5rSxIibQCq//NixHweco61nsPEWIXSX4J7gMp/38J7I/MjAjfQyh+0KxFA4mWSFMCR0K8ZBcdZ+HZRnVbArgq9AJotfB3mDamZ0k1Rvju+TksgpK3xmfzLbSOGNrL2u3qRhY1xIyO//+hacao8RY+SxDAZkcov/Ohr+TWBTuiSC6bOIYuDf/+TcosKKF0MSACGljxAlBRRpIjHHRNqmcMIHKIeMv/zYsSSHrJWnFbJixAKD5ale3k03ceLLYZR+ydkiY7KS42FgtljMVgAMxDlCDO5miAbGKYARArUBKDO4c9A7XoR4GJR232/1ZzlYgtFKX/9TE86EQrKU8y6//////RXhwpQinWFCYlOr9mLfq/V5kiqAncF2Y0Ih4HiKeC5c76p31iF5o64AKRyi+W9i1ocBqMTEAQfWlhQQbe6t3v/82LEpx6K5ow81gRUi1r6kH02olvex2fTIDAA1zDoVkJiU+QWo6CsyhRSzfT2d0ZiMDQBb/6PUi3rEmPRHX6l//////d8pXRl/Cso38RVOyv/3bjNAqtEIlT4kgQ/iFF4RNT7BW6qoGEDusyNC1rcaQFKFxRuKxYYVuXU0WMQQhdhaht+YzTQDLfGsFq7krc2LzneP2NKuDc8JxQs//NgxLwc6yKEUtDFLM/OICt/+jlqhnVHAqGNM/+9c1jkKxTKgD0///qAxINW3liDhZ/JGrz3//5FAIJEKVEoNHRwe5iQQUjGAtBr6M5gZmCDadKRxaZPeC0smJLAudGV5A0EN60/MBAUAANIUkBSpVrrkbwCIscI6PaMUddWsi0RFdNfnFIzuONlJWamiCh6JfRv//Lfww81jhtu//NixNcc8iZ4VNGFDKkt3X/5JJsWltIcrcmjyw+H1/9f////q8vEsQwqrtuhSghqs6t//Ua7//5IimQo7GDNp3DmasDkIWiIIxLCqBw4pdaf5jyKBcZTNTFjzVVH1qo4pVJ1q5MZmgi5mfJPrtQkucXLbrRu7UE3jRFU3JFHFThf/xDAgKoKHGrUN+k6uDY4ngwVMr///8lBOIaniP/zYsTzI+t2UFLiBRxjzT6v//83/9jnosVIgUEolZX0IXt8e5wo4FXQ3CpEJKf2exined/1ZapMQU1FMy4xMDCqqqoYACOOKOS1jQBHVlEnIecFmtvU7U5tD6VKwnyiP1qhK5tgSVPUTEhK4V5/riA2rTgx2g1Z+NApSoTxUQOYPFBW/jxzQuEglks5TW//RCQ6PEig+Jkb/n2dv5H/82DE8yMSIjwA3hA842SjGE6nZr16LO1pVuXJEfXMb65+PdjWMksoSFRVZWoSBQ0dwRpJkJUh5DdVaphQ1a9OVgLcaK8aTvEdDaVLqQlkURfVSpleLaYYSEwBYn8B+hqtVz96bJpqLS8mwxy4Nbfv3w7XSyyhwLaLEqlw7orsxrGqkKdaIAv1uaOJC6FwlIpq1zbY4y7MWfsZBCX/82LE6R5SPlUeeU9EelrKVY4Rum7HwEc9b/1bt0iKv1k4TmGJrMlPqguZP3MjNU5SIQhe4UMN9WoGpTESItv5hWM+X4LxMRlb6pBMlOp7JxNqORmzXpCSjmXmwubRd1YLiJvc/qHZGufEV2YrDydETXAmsJLxyjUc0191aSdohNUbGR97QxjomTvelGybnPV9LgY/QSuZ51kzuywI//NixP8mk94YAnmHSZwitBOFvp9E0G2knaYjZkqqYo0leQnq1WnBSSJtkzN3h4dI67boEiaB7qQdKWy2KVtZBgNVCNWYryehNtom4zxs/cNP23jum0/T92Wcg9waXNInT8jcn+OvG+ThZEzO/bCVF/vaUF6192btiFHnVB5+l7mfE/Bes+3/B7TFTdvf7+paT7xWM6am0kmWjD7RRv/zYsT0JgwKBABoTA132WKM2C6Rg3MZplcdq55Bm3JiKxv8zvqta6os9Xx6YrfbxJTGGo2k2wxR52wZ2TE2hmoIz4iW5f7Ny60ggMGzkbfRvVsTaSbWvTq2l3GxupG46Pxas2T/sYgmeemdkWHIOlu+arXP7J7bm60Teev2Gs8N6dk0MO+e9740mN8emYpCUd2Ei4MySkqNjpzsFKT/82DE6yNcDggAaEwpHtddEqGzId263++bWZGyl2af6P5ndEN1Jzt7vd92ruWLSpd7+10z1F5vx3tJdA0I1SzKEiwjtJE5D2FgaJRCPj/ZmSjzKPO+H/fGbDEUmpDO7wnJhItPTsWWpKfrPfbaOdu7YzHsZ4v6cnT57JCPZbZzkncf8nYNSg/Ibaq7qVQi5aUoWYWqnpsvFZjO+Ob/82LE7CL8DggAaMwdwc7QhFHJ7Z9JUYbSxkF1W08Mac8c8U77Gt7rMPym58RM5V/8u09yDyWddOWfWYgTHnx1CF2xsgxRGDT1prQfb1VlZa9dr5yTbLs/dY6z2J9HBcezGV/1bhZU7Rmdtyneqe/K1GLqGvZObV4munzH5Vc/u7Tnve24dzatIuFoGu9Rrt4onyHUYS+1kIbOPcz8//NixPAkpA4IAGjMGTDUdYt+25mXDHxU51ZB6MuTGw9aBmKc9CXKwq4fds/Y2Wu8w3XN7vt1TXH3nX65ypUGkJi7lOc640TbA5tjJT3bHFRpxGi3o/FGwOAxSSPg1Bun2aCZVSgqc75kq+kCQdBwJIH1XJBEFY3AOQDR/TMqFkd2+usr/92LSQJiBhOtnSBZIhGFplOFmTdnp1hZSv/zYsTtI2QWCABoTBAnCwRDven26bYfUGIRHt5/srSLo5MNu/fn/l/Pj4QLj4Ajez7/9UIPe8R6GBqv8Ht292xs/+/23v50elqqqoP/5ynn5fMYVt3LFTHUBxekpy7jC2hM/Xu87gmLaJrmYgPArIFQUr5e/RhiqfT0RQBgQGQZG7T4v4/sfTDSrL1lzEHS/ZdxelMrhh6RiKiYDAT/82DE7yZp/jAUew0p0Dk4HghyQO3Glgt4ag1CgKUBvCV1kiH4qGsW8y3dFZNEU6FtROHV9//cB5DQ9cKxzYE6LeccU525QK9+IaCXQ/OHXye1VevHMA6pz7/o5j+SCYTBwLp8CA+MgLF44DvAQwDrjzh7D8ewJju+kWc2Zuv4cLGzNfsTcdKTmrzzrztjh0D3lP/1OqW+GIYCzlD/82LE5DmDFmhUy9mIICf6V6YRjHEZnl8U1AriR+wK4wYw46l0YTTJ2DMDbMtRGJCDnE0ZxMzVBgC5jDIeryrLgYh2mOYz00ThfCnAWC8oWDwLsaDOCxJAFwUZjux+KoBIA4JrBKJawBgGyEqP411r5SS5JwW8Q+n8+Z+SxOJWTcxKhPJcS4+SCIHi41fmxcSPjmFZG2Id5fwVhWSA//NixI40o+qAAHsLkSiEWGQrFYySAqAGlGQjgcyIEPcSCwFAb0vpmsYVgKDO4DtIBxgqDt661UPsiC59DqT///Oe8nQjJEw+goii4mAhFBw3OrM2lpOWJPS2JPU07Bx6fGZgkXEMJGYwmB0k5JyGlBKKC4MWFAk8LBMn7ZG2Pp32LMuQ9vcYxKiTcG4zghThGJ4ny5FVkArIFHokLP/zYsRLMsQWte7iVr7NucMlVfsaf+9zOH8Xwc+J0mSqb9M0LauobO4LzskhFtPoE+1C0gTxmbi8eCDG04ublxBpj0anGEUgpcRzA2H286WkOQsud9LU50O6/96bOj51qzkzC/5b/////6V6L19UwKiDIZw6h/AoQgEIIYUhqbAOiW8FB/LDpKGxzsmk65Z7NLZpJ687Sq+BWwJL7Zr/82DEECJr4tY228TPkKgMeNuJJw3Aa8Fi4VmfCMGc2SuEnB+T7yr2m1bqea+0wS2jq6BK49Fh2SCs5RD6m1Am1FNuIllHZkXp5TLZnej1o3JZw5uDM36iQWCUIpju4h3QzC3Sx1bfzH/df6///////9CFiyBRZzCA4V4sQDIcg4XDrzqz000jBFAgE5/3aQwolD5sAgkozRdvEhH/82LEFSMKQrIOwkdIpnYg+I1GBYzRBFx5r8yllheiQW5hbO+6aImM+3ZtlCvnOnpmXyazpkf3ze7P7vPcK/tCqhVECSzRlpr/6f7ZH7k5nGiUYW5hhb3Fbm5f/WITugGoWqGN6pjOXcElDBaIg0tRFH////AAsReWMEAksRMECUh+IAoqgBrWaDrCBed7KB0advdQahWx2USghCLT//NixBgfokKkpqYQPJbctkkRbsspoIJlvbg+A6MeDUoGlJUq9rVSAmD61UGteJa9Czfmv+fgOTPGAKrAdO36/v+//JrexNah7bXJKfxNZP71RRw03geVX/NMLFVhmQK4wzNjH///+qVSVUIvL4oVc1wUWboMNVNDP5U+JjJjQ/nwvuHXX7j+jajXZRI1bS+W5pfBpBp0yGaQ8QApq//zYMQpHwFClFbWUDgMQMlqj6jEBybyeazu3igUFmSBYYyLS1X74tuWebJIy8v3KYskARKDgsHRL5aRJBki4qEtoKwoeOoQGrLv//V1BIqUDChcTGhRKxENuQ/uHsWKGwyMFUAbyj5IBGKObJrEPjkSBhyxQjIEYCWoturAYqDo+TkbGRxpi6KGJF91YHVweJGqVPw+foJ5bleSQv/zYsQ8HiqKiFbZhQjv+43smL5cOMsMCXFiFMUM/J20MCW9sMIdzN/vuVkgJzurbf/0/yizootAQY//+hjdzJix86e2XbfHi59VASDe63WV/4R8xon9ZkhyiOeEfCoJPZctaLm6pWdiU8txxSgefTwYuxT8rcgU+BQP5xCCHyhBH+QbHdbsKVu4ltxADw9SxQJSFf//6GH2UpuYtSr/82LEUx7yirGWwg8Sd/pRihkfG7kxueiur6/8/+o3DATiYbmiowiZ//2Cf/r//U5ghQIRRKUAQEcZbmFf86+gnGTdmEAAQmHptZasNFg1UvtS5tgKAJ9UsAI8OPTSVG9C+ptiatOCN7Rn9lJULSN3yOqz2CCRUIIA5AME6Kcv6HyAmqOFap4xP1OipRl3aRRQM8l3Rv/TJscG4DNO//NixGceom6yHsGFCAB//+jgWh58EljQcsU7TdvTQxCFAFAG6Zx/qhKoEE81jfJpq4lXUZd8zTvSBl0hVkHpw1dlZMuR4xIsynFndm2b2PgqEfn6Czldxx+Xoprow+YxQAM53QXY6X9DTdTajlxdEKPWhTq33RI9BNgVFWbX//yUdVHUAL//7mi+xdSIkcSHJWmZmzAqwXe15NqVIP/zYMR8HqJ+rfbByyzAA9Pzn9sScplJ+XQhkB5vsvi1zFJ98sqSLDzrvH1VJazjwhNFsc4YGhS2kghs386P/8N76KT/KMXNdrPg/NK1tiQgroP1J+w1tX0FeRylCI+5Ov9mSogzJt//vzEIVGK5iNf/////o2hf9uu6q89kK/R6MjPTuNj5shZ0RbBtVqWt1lO19XZeyM0pTolmMP/zYsSQH2PesfbCSym7P7Z7rP46y6kw9ht/W2MwjVgeg3+xeF9IlpUbvRxW/78VMTIZn5QfGUKiE96/BRt/f8/83f+9vcPz3/nRwPqpR71iCCpuQkLoTDykG5Qn/FTCiILCgcU1Z//1HAe67BYZYmtIw0VqilorXa1xhUBALQDg+W5fjECNM7Xih80bjoOstAaFR8u9afNPgRFtkwr/82LEoh/iIri2wxEKj+y47JsWWmtrJzF2utWrAlPVrp4Ix9pLLh8LFBx1gAB2o5zgGG4mL6J2/U6PfspnIOep9xM1CM9BQaC59DpD+Nd///YGFBEH8OHIRGh/oGOWZAx1LxM9T8SrAHneGdkkPk36uraUruZs+BLX6S6aQidFvoG5Pbc1ATf93Kla7GoBSUgBomrEJrgWKVFLr/+R//NixLIfAfayNsMKfFXxg/5r/ZRwdHeQP0gdX02oz2LoCdjIPdhBmQS8wIryCbuYH9P//KVdP/////9j/N++ILIf/u7NIQGUgsMqgAg6sBnPhjlFAEuWJp9UPaX9vScptR1GFmdiGjVobbrT/tgcCzZpc/Uaxkt186e5CAaXYpbPHWzutZQ4s+crU8jXVsAAkoZ6giEYxjnQ1QTuhP/zYMTGHyPetnbCBPQxqGSchninPGHDIJVUYXQ4IYjDlaqKf7/o1V3SnJyf///+mv/a1GSjaekut3Uqnrg3NGUdKg5NlAgOfBohKQiGdNugiAxcNWQqFL9GLUw/ja2685P3bqlblQPNF22xYQAyyTzSre5TTvqemvijz1vv4u/xGgajxcyN8C7P2ND1fUoy5quVSQu14p/Fb91fxP/zYsTYH1vWrnbDBLClp4rzbh7+SdTubOy4hL8OJhbrFsq3BlbnmX61Fz3UuJsWzu8elP//62P/I3///+tEdFY/tVN5dticzBBzirOinOINgiRYCYET192AurSFBlSRotaRLn4UPM7nB0mGllBxBPqd6kPS9iK3p6Puncr6iEWxelr0O0ZwoyeNLwHiPGyotmdmZtadVRa+wuZGsJn/82LE6ikrxpUM28UdOZjuPhAOxNCRMCZRMWrnAwRTPnzSJk7XHp26kvVhjLIlqFAtP/QlKcWKB1LW3OT4sFRb6uWSkxbVkS/IMvkzP//siu576kG/+uIa9soJdhakMhSkuIVgyCZBhEey5qoACzRVBRP9yQUWcbUQCTI7XjJQs9j/IKJdZ0hfSNRFrcg5jInl+pVx/gTySUUklFqr//NixNUoyq6dpNMFHD1eyvY1UFOkSoVyAoWFBcWIBYThlseOiIRkxKDKFnP7Tg7/72Y/1HpqMvNSuzDKAVZLVn1JH34/T72U9RfbjGKWf///ovtFDMv////Irtbz1L62JvLBjvjgkSqIMrYhc17Q2uQVnFWLW7MFKogqcIoxgiA3CUJoNCnXbSibaKMAlvIAaDZtv/ILx6V1C9LrOP/zYMTBJOOSqkbKRR2gD2nP0m7f3X3Qk0kAUDSpgpJ0zJPPlYMpJa//lZ10fR+qgLE6ARQvZDGsGHQdQYl6jEUMJJjfWFulzksYADX/56qmnqWomQGGAKA1oQXKvPrq4EUSkIGCdzlVxRomNISseS++C4qagZI0KlgiQ5Tbb3rB+sUKIkp5eJhUhI0X3nmEIzlFxUPbS9orklxYm//zYsS8H5ImskbBhPQi9oa/5veXo9P6nRDJS618t1f3kcz3kq3//Sq1Q7iAR0f/OJ/73kITDQsbSkNGzglPn0iw5CKAwECRGtHUpASXHmymfKkDagxf0qrIlUe5VZsSVm2JILDh7Cw0HzbQzgroy9KMkOFcQDzRIHywhZrexs1HIlUOaEMNSv//o+j26PX1lGLUS11NNPIZlZ4I7xz/82LEzRyytrJWwgTYgoM6pOMrfq/6LtMYeCUSKb/57/sDUteRQNALhYN48C2naUwEQAwnsyhPOucUDbsT1UgpCWASUUtTfTGtXVVbjhPorpndAlDB1+UuXSMxf+L0367x+IgxOOW6SrEmswimxfg4u2qabJJM2e5iiIMkjx3////7NbvjfvlN2eW/VyqRp21t/+7pryDJEoVDoObP//NgxOofAr6Y1soE2HmmN//+qaIBBwwUSv//vqRrnyRIYDDUg0KoB59B0RB2EgKAUrjAgdPIOjBAUGCB1ewZkEF6wSNJzKGEgWEIGM0y5rTkA0QKCNpTSmAs6bdYRp7muQTAcfe5yL0BKYu78wA0U1lNmJdBAYx44mudsoZxDQpVkNf//r/83//7iustiwjD3gQUNe3MEYVEEKGi//NixPwjMrqAHtGFVAjDmobY0XKKaqY0mf//W9XFARgph/////9P1/mWlbHcG0s976uqzABCcprOCvgUC+BiQJGZ3ODiuLDEwlJxaEOsIQMjshuowWlfmnTlVw2dVQwWEmVus15VBFha4QCpIw5dUrWYNZolXR4PqY2R9J09OYViUbu2ut5BZ/VC8BR5A8PVzDv/6t/lqhlZxYzlqv/zYsT/JrPqbBbaBTmVlHFFSoItCw6KySCImUivIXQ///1bqT/////mL9rz0NzYgpg8guEjQQNIxkIImIQRQVKvFNjL1WgMCXvwODI3RRgWIzLhHM2J81ITSYAocC9Tc1wNXeaLO5ioqqorEv5VBaa7C5jVzEChDAOD5gXEmSlLNk316c7nAVQPYGTofQEGFfRnDOgr////WzIb1Nr/82LE9CbL7mQ24wsJIYd+ZMM50nKYxmMLVRRzbfO/V83/////6WR69k+qbqZoUwpXvRHNRSoGUMYK9EpZIYGQCAFQcNTRo0jGFQ8deQRU3SdCALaunWiy9ZyIxSCm6F2SECIwiKklCpOPv8spkz6Kcu41yXw/p6Oo/LM6lEhKlHoiaG7co5t6/+//nGKeGB4JlFvoRiqxjDhgqLVI//NgxOghm+5UFOME6YPUxhh7IJDhTUUWgmT7ieIDHtxMyFqZu3///3/sUyPyls1r0GmcpV+iOUa2wFNVYEIwjn8PEhL1fTts5XbE4rEWsuTFZVPQCuZiS5i5TV4EApxrrAJaEsiLPGCAWaUul0ueFyoejUuUpZi/KVv6Gob65Slb///6h0VEhYSAIVq3lNlESlQBhWsrGfmM+TRt//NixPAjy+pAEOaKPVVKASl/AwplIMK/9RKBhRhr/+vtg0e7ahwdnRLBoeGlB0RB1QFA6PBLMD9QjiratmWoYENDYbcj61cy9PdeVWTTSThOE6u6nm/3VXKMorFThxdSebkr/jKMlUk01J5sVlVlk1JwnV1V/+6uq3NiiISIZKnF1F0k0kzqjZ5pCRCEaGhsgRsTgcYMGkdv//6KiP/zYsTwIOLGLADJRzioqWf9ymVUOzsYqZimERIRCQSCYcFxximVUVui/uqeiophJSOzlEhq02ppTEFNRTMuMTAwVVVVVVVVVVVVVVVVVVVVVVVVVVVVVVVVVVVVVVVVVVVVVVVVVVVVVVVVVVVVVVVVVVVVVVVVVVVVVVVVVVVVVVVVVVVVVVVVVVVVVVVVVVVVVVVVVVVVVVVVVVX/82LE/CXD9WAAYksdVVVVVVVVVVVVVVVVVVVVVVVVVVVVVVVVVVVVVVVVVVVVVVVVVVVVVVVVVVVVVVVVVVVVVVVVVVVVVVVVVVVVVVVVVVVVVVVVVVVVVVVVVVVVVVVVVVVVVVVVVVVVVVVVVVVVVVVVVVVVVVVVVVVVVVVVVVVVVVVVVVVVVVVVVVVVVVVVVVVVVVVVVVVVVVVV\" type=\"audio/mpeg\" />\n",
       "                    Your browser does not support the audio element.\n",
       "                </audio>\n",
       "              "
      ],
      "text/plain": [
       "<IPython.lib.display.Audio object>"
      ]
     },
     "execution_count": 5,
     "metadata": {},
     "output_type": "execute_result"
    }
   ],
   "source": [
    "# Play the mp3 file\n",
    "import IPython\n",
    "IPython.display.Audio(audiofile)"
   ]
  },
  {
   "cell_type": "code",
   "execution_count": null,
   "metadata": {},
   "outputs": [],
   "source": []
  }
 ],
 "metadata": {
  "kernelspec": {
   "display_name": "Python 3",
   "language": "python",
   "name": "python3"
  },
  "language_info": {
   "codemirror_mode": {
    "name": "ipython",
    "version": 3
   },
   "file_extension": ".py",
   "mimetype": "text/x-python",
   "name": "python",
   "nbconvert_exporter": "python",
   "pygments_lexer": "ipython3",
   "version": "3.7.4"
  }
 },
 "nbformat": 4,
 "nbformat_minor": 2
}
